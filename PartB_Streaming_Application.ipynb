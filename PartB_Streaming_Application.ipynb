{
 "cells": [
  {
   "cell_type": "markdown",
   "metadata": {},
   "source": [
    "**install geohash packages**"
   ]
  },
  {
   "cell_type": "code",
   "execution_count": 1,
   "metadata": {},
   "outputs": [],
   "source": [
    "#pip install python-geohash"
   ]
  },
  {
   "cell_type": "markdown",
   "metadata": {},
   "source": [
    "**import libraries**"
   ]
  },
  {
   "cell_type": "code",
   "execution_count": 2,
   "metadata": {},
   "outputs": [],
   "source": [
    "import os\n",
    "os.environ['PYSPARK_SUBMIT_ARGS'] = '--packages org.apache.spark:spark-streaming-kafka-0-10_2.12:3.3.0,org.apache.spark:spark-sql-kafka-0-10_2.12:3.3.0 pyspark-shell'\n",
    "\n",
    "import json\n",
    "import geohash\n",
    "from pymongo import MongoClient\n",
    "from pyspark.sql import SparkSession\n",
    "from pyspark.sql.functions import col, split, element_at, when\n",
    "from pprint import pprint"
   ]
  },
  {
   "cell_type": "markdown",
   "metadata": {},
   "source": [
    "**Topic & IP** <br>\n",
    "create variable to store topic and ip address"
   ]
  },
  {
   "cell_type": "code",
   "execution_count": 3,
   "metadata": {},
   "outputs": [],
   "source": [
    "topic_name = 'climate'\n",
    "hostip = \"192.168.1.27\" # change it to your IP"
   ]
  },
  {
   "cell_type": "code",
   "execution_count": 4,
   "metadata": {},
   "outputs": [],
   "source": [
    "# data base\n",
    "client = MongoClient('192.168.1.27', 27017)"
   ]
  },
  {
   "cell_type": "code",
   "execution_count": 5,
   "metadata": {},
   "outputs": [],
   "source": [
    "# add new or connect database\n",
    "db = client.fit3182_assignment_db"
   ]
  },
  {
   "cell_type": "markdown",
   "metadata": {},
   "source": [
    "**Drop the collection**\n",
    "I will drop the collection first"
   ]
  },
  {
   "cell_type": "code",
   "execution_count": 6,
   "metadata": {},
   "outputs": [],
   "source": [
    "# drop the collection\n",
    "db.climate_hotspot.drop()"
   ]
  },
  {
   "cell_type": "code",
   "execution_count": 7,
   "metadata": {},
   "outputs": [],
   "source": [
    "# add new collection \n",
    "climate_hot = db.climate_hotspot"
   ]
  },
  {
   "cell_type": "markdown",
   "metadata": {},
   "source": [
    "**Spark** <br>\n",
    "Create Spark "
   ]
  },
  {
   "cell_type": "code",
   "execution_count": 8,
   "metadata": {},
   "outputs": [],
   "source": [
    "spark = (\n",
    "    SparkSession.builder\n",
    "    .master('local[*]')\n",
    "    .appName('fire event app')\n",
    "    .getOrCreate()\n",
    ")"
   ]
  },
  {
   "cell_type": "markdown",
   "metadata": {},
   "source": [
    "**kafka** <br>\n",
    "Create a streaming dataframe using the topic and ip address, this kafka will subscribe to the topic \"climate\""
   ]
  },
  {
   "cell_type": "code",
   "execution_count": 9,
   "metadata": {},
   "outputs": [],
   "source": [
    "fire_event_df = (\n",
    "    spark.readStream.format('kafka')\n",
    "    .option('kafka.bootstrap.servers', f'{hostip}:9092')\n",
    "    # subscribe to ths topic name\n",
    "    .option('subscribe', topic_name)\n",
    "    .load()\n",
    ")"
   ]
  },
  {
   "cell_type": "markdown",
   "metadata": {},
   "source": [
    "**Value** <br>\n",
    "only collect the value from fire_even_df output, if we were to output the schema we will see other option like key, topic, offset etc, but here, we only need value"
   ]
  },
  {
   "cell_type": "code",
   "execution_count": 10,
   "metadata": {},
   "outputs": [],
   "source": [
    "output_fire_event_df = fire_event_df # we only value as it is the value produced by producer"
   ]
  },
  {
   "cell_type": "code",
   "execution_count": 11,
   "metadata": {},
   "outputs": [
    {
     "name": "stdout",
     "output_type": "stream",
     "text": [
      "DataFrame[key: binary, value: binary, topic: string, partition: int, offset: bigint, timestamp: timestamp, timestampType: int]\n"
     ]
    }
   ],
   "source": [
    "print(output_fire_event_df)"
   ]
  },
  {
   "cell_type": "markdown",
   "metadata": {},
   "source": [
    "**Manipulate the data according to the question** <br>\n",
    "created a function to manipulate the data according to question before storing into the database"
   ]
  },
  {
   "cell_type": "code",
   "execution_count": 14,
   "metadata": {},
   "outputs": [],
   "source": [
    "def process_data(data, epoch_id):\n",
    "    data_batch = data.collect()\n",
    "    \n",
    "    # decoding each batch of data back into dictonary type from binary so that it is easier to work with\n",
    "    json_data = [json.loads(row.value.decode('utf-8')) for row in data_batch]\n",
    "    \n",
    "    climate_counter = 0\n",
    "    posi_climate = 0\n",
    "    cli_lat = 0\n",
    "    cli_long = 0\n",
    "    climate_doc = None\n",
    "    \n",
    "    # add in geohash value to climate, terra and aqua streaming data first\n",
    "    for i in range(len(json_data)):\n",
    "        if json_data[i][\"producer\"] == 'climate_streaming':\n",
    "            climate_counter+=1\n",
    "            \n",
    "            # to remeber the position of climate if there exists two climate data in this batch\n",
    "            # according to brefing video we will use the first climate data if there are 2\n",
    "            if climate_counter == 1:\n",
    "                posi_climate = i\n",
    "                cli_lat = json_data[i][\"latitude\"]\n",
    "                cli_long = json_data[i][\"longitude\"]\n",
    "                json_data[i][\"geohash3\"] = geohash.encode(latitude= cli_lat,longitude=cli_long,precision=3)\n",
    "                climate_doc = json_data[i]\n",
    "        else:\n",
    "            # add geohash value into json_data\n",
    "            json_data[i][\"geohash3\"] = geohash.encode(latitude= json_data[i][\"latitude\"],longitude=json_data[i][\"longitude\"],precision=3)\n",
    "    \n",
    "            json_data[i][\"geohash5\"] = geohash.encode(latitude= json_data[i][\"latitude\"],longitude=json_data[i][\"longitude\"],precision=5)\n",
    "            \n",
    "            # added this so there is more than 1 matched location i can use this to help to skip the index\n",
    "            json_data[i][\"matched\"] = False\n",
    "    \n",
    "    if climate_counter >0 :\n",
    "        matched_posi = []\n",
    "        for i in range(len(json_data)):\n",
    "            if json_data[i][\"producer\"] != 'climate_streaming':\n",
    "            \n",
    "                avg_temp = 0\n",
    "                avg_confi = 0\n",
    "                \n",
    "                # find matching hotspot data\n",
    "                for j in range(i+1,len(json_data)):\n",
    "                    if json_data[j][\"producer\"] != 'climate_streaming' :\n",
    "                        if json_data[i][\"geohash5\"] == json_data[j][\"geohash5\"] and json_data[j][\"matched\"]==False:\n",
    "                            matched_posi.append(j)\n",
    "                            avg_temp += json_data[j][\"surface_temperature_celcius\"]\n",
    "                            avg_confi += json_data[j][\"confidence\"]\n",
    "                            json_data[j][\"matched\"] = True\n",
    "                                 \n",
    "                # there is a match if and only if the value is greater than 0\n",
    "                if avg_temp > 0:\n",
    "                    avg_temp = (avg_temp+json_data[i][\"surface_temperature_celcius\"])/len(matched_posi)\n",
    "                    json_data[i][\"surface_temperature_celcius\"] = avg_temp\n",
    "                if avg_confi > 0:\n",
    "                    avg_confi = (avg_temp+json_data[i][\"confidence\"])/len(matched_posi)\n",
    "                    json_data[i][\"confidence\"] = avg_confi\n",
    "                \n",
    "   \n",
    "        # if matched == true means i had already been avg into previous i from last for-loop so do not add in using json_data[i][\"matched\"] != True\n",
    "        climate_doc[\"fire_event\"] = []\n",
    "        for i in range(len(json_data)):\n",
    "            if json_data[i][\"producer\"] != \"climate_streaming\":\n",
    "                if json_data[i][\"matched\"] != True:\n",
    "                    # so if geohash of climate is equal to geohash of hotspot data, add into database\n",
    "                    if json_data[i][\"geohash3\"] == climate_doc[\"geohash3\"]:\n",
    "                        \n",
    "                        # process the date if they are not the same according to FAQ\n",
    "                        if json_data[i][\"newdate\"] != climate_doc[\"newdate\"]:\n",
    "                            json_data[i][\"newdate\"] = climate_doc[\"newdate\"]\n",
    "                        \n",
    "                        climate_doc[\"fire_event\"].append(json_data[i])\n",
    "            \n",
    "    \n",
    "        # add in whether the fire event is cause by natural or other\n",
    "        if climate_doc[\"fire_event\"] != []:\n",
    "            if climate_doc[\"air_temperature_celcius\"] > 20 and climate_doc[\"GHI_w/m2\"] > 180:\n",
    "                climate_doc[\"cause_fire_event\"] = \"natural\"\n",
    "            else:\n",
    "                climate_doc[\"cause_fire_event\"] = \"other\"\n",
    "        else:\n",
    "            climate_doc[\"cause_fire_event\"] = \"\"\n",
    "        \n",
    "        # insert the result into database\n",
    "        # len much be greater than 0 because some batch might not consists climate data at all\n",
    "        if len(climate_doc) >0:\n",
    "            result_ins = climate_hot.insert_one(climate_doc)\n",
    "      \n",
    "            "
   ]
  },
  {
   "cell_type": "code",
   "execution_count": 15,
   "metadata": {},
   "outputs": [],
   "source": [
    "\n",
    "writer = (\n",
    "    output_fire_event_df\n",
    "    .writeStream\n",
    "    .option(\"checkpointLocation\", \"./fire_event_sdf_checkpoints\")\n",
    "    .outputMode('append')\n",
    "    .trigger(processingTime='10 seconds')\n",
    "    .foreachBatch(process_data)\n",
    ")"
   ]
  },
  {
   "cell_type": "markdown",
   "metadata": {},
   "source": [
    "**streaming query**"
   ]
  },
  {
   "cell_type": "code",
   "execution_count": 16,
   "metadata": {
    "scrolled": true
   },
   "outputs": [
    {
     "name": "stdout",
     "output_type": "stream",
     "text": [
      "<class 'list'>\n",
      "<class 'list'>\n",
      "<class 'list'>\n",
      "<class 'list'>\n",
      "<class 'list'>\n",
      "<class 'list'>\n",
      "<class 'list'>\n",
      "<class 'list'>\n",
      "<class 'list'>\n",
      "<class 'list'>\n",
      "<class 'list'>\n",
      "<class 'list'>\n",
      "<class 'list'>\n",
      "<class 'list'>\n",
      "<class 'list'>\n",
      "<class 'list'>\n",
      "<class 'list'>\n",
      "<class 'list'>\n",
      "<class 'list'>\n",
      "<class 'list'>\n",
      "<class 'list'>\n"
     ]
    },
    {
     "name": "stderr",
     "output_type": "stream",
     "text": [
      "ERROR:root:KeyboardInterrupt while sending command.\n",
      "Traceback (most recent call last):\n",
      "  File \"/opt/conda/lib/python3.8/site-packages/py4j/java_gateway.py\", line 1038, in send_command\n",
      "    response = connection.send_command(command)\n",
      "  File \"/opt/conda/lib/python3.8/site-packages/py4j/clientserver.py\", line 511, in send_command\n",
      "    answer = smart_decode(self.stream.readline()[:-1])\n",
      "  File \"/opt/conda/lib/python3.8/socket.py\", line 669, in readinto\n",
      "    return self._sock.recv_into(b)\n",
      "KeyboardInterrupt\n"
     ]
    },
    {
     "name": "stdout",
     "output_type": "stream",
     "text": [
      "Interrupted by CTRL-C. Stopped query\n"
     ]
    }
   ],
   "source": [
    "try:\n",
    "    query = writer.start()\n",
    "    query.awaitTermination()\n",
    "except KeyboardInterrupt:\n",
    "    print('Interrupted by CTRL-C. Stopped query')\n",
    "except StreamingQueryException as exc:\n",
    "    print(exc)\n",
    "finally:\n",
    "    query.stop()"
   ]
  },
  {
   "cell_type": "markdown",
   "metadata": {},
   "source": [
    "**print out the result from db to have a look**"
   ]
  },
  {
   "cell_type": "code",
   "execution_count": 17,
   "metadata": {},
   "outputs": [
    {
     "name": "stdout",
     "output_type": "stream",
     "text": [
      "['climate_hotspot', 'hotspot', 'climate', 'clihot']\n",
      "{'GHI_w/m2': 122,\n",
      " '_id': ObjectId('647f5861092d2423e8aac052'),\n",
      " 'air_temperature_celcius': 14,\n",
      " 'cause_fire_event': '',\n",
      " 'cre_date_time': '14:41:21',\n",
      " 'fire_event': [],\n",
      " 'geohash3': 'r36',\n",
      " 'latitude': -37.602,\n",
      " 'longitude': 149.311,\n",
      " 'max_wind_speed': 14.0,\n",
      " 'newdate': '2022-01-16 00:00:00',\n",
      " 'precipitation ': ' 0.00G',\n",
      " 'producer': 'climate_streaming',\n",
      " 'relative_humidity': 48.5,\n",
      " 'windspeed_knots': 7.3}\n",
      "{'GHI_w/m2': 89,\n",
      " '_id': ObjectId('647f58aa092d2423e8aac053'),\n",
      " 'air_temperature_celcius': 10,\n",
      " 'cause_fire_event': '',\n",
      " 'cre_date_time': '16:02:46',\n",
      " 'fire_event': [],\n",
      " 'geohash3': 'r1k',\n",
      " 'latitude': -37.293,\n",
      " 'longitude': 141.245,\n",
      " 'max_wind_speed': 8.0,\n",
      " 'newdate': '2021-12-31 00:00:00',\n",
      " 'precipitation ': ' 0.01G',\n",
      " 'producer': 'climate_streaming',\n",
      " 'relative_humidity': 45.7,\n",
      " 'windspeed_knots': 3.7}\n",
      "{'GHI_w/m2': 108,\n",
      " '_id': ObjectId('647f58b4092d2423e8aac054'),\n",
      " 'air_temperature_celcius': 12,\n",
      " 'cause_fire_event': '',\n",
      " 'cre_date_time': '16:02:56',\n",
      " 'fire_event': [],\n",
      " 'geohash3': 'r1w',\n",
      " 'latitude': -35.321,\n",
      " 'longitude': 143.502,\n",
      " 'max_wind_speed': 7.0,\n",
      " 'newdate': '2022-01-01 00:00:00',\n",
      " 'precipitation ': ' 0.00G',\n",
      " 'producer': 'climate_streaming',\n",
      " 'relative_humidity': 44.0,\n",
      " 'windspeed_knots': 4.7}\n",
      "{'GHI_w/m2': 122,\n",
      " '_id': ObjectId('647f58be092d2423e8aac055'),\n",
      " 'air_temperature_celcius': 14,\n",
      " 'cause_fire_event': '',\n",
      " 'cre_date_time': '16:03:06',\n",
      " 'fire_event': [],\n",
      " 'geohash3': 'r33',\n",
      " 'latitude': -37.469,\n",
      " 'longitude': 148.125,\n",
      " 'max_wind_speed': 13.0,\n",
      " 'newdate': '2022-01-02 00:00:00',\n",
      " 'precipitation ': ' 0.00G',\n",
      " 'producer': 'climate_streaming',\n",
      " 'relative_humidity': 48.4,\n",
      " 'windspeed_knots': 7.5}\n",
      "{'GHI_w/m2': 202,\n",
      " '_id': ObjectId('647f58c8092d2423e8aac056'),\n",
      " 'air_temperature_celcius': 24,\n",
      " 'cause_fire_event': '',\n",
      " 'cre_date_time': '16:03:16',\n",
      " 'fire_event': [],\n",
      " 'geohash3': 'r1m',\n",
      " 'latitude': -37.6662,\n",
      " 'longitude': 142.9874,\n",
      " 'max_wind_speed': 13.0,\n",
      " 'newdate': '2022-01-03 00:00:00',\n",
      " 'precipitation ': ' 0.00I',\n",
      " 'producer': 'climate_streaming',\n",
      " 'relative_humidity': 51.9,\n",
      " 'windspeed_knots': 7.3}\n",
      "{'GHI_w/m2': 178,\n",
      " '_id': ObjectId('647f58d2092d2423e8aac057'),\n",
      " 'air_temperature_celcius': 22,\n",
      " 'cause_fire_event': '',\n",
      " 'cre_date_time': '16:03:26',\n",
      " 'fire_event': [],\n",
      " 'geohash3': 'r1t',\n",
      " 'latitude': -36.0966,\n",
      " 'longitude': 142.3635,\n",
      " 'max_wind_speed': 15.0,\n",
      " 'newdate': '2022-01-04 00:00:00',\n",
      " 'precipitation ': ' 0.00G',\n",
      " 'producer': 'climate_streaming',\n",
      " 'relative_humidity': 57.0,\n",
      " 'windspeed_knots': 8.5}\n",
      "{'GHI_w/m2': 82,\n",
      " '_id': ObjectId('647f58dc092d2423e8aac058'),\n",
      " 'air_temperature_celcius': 9,\n",
      " 'cause_fire_event': 'other',\n",
      " 'cre_date_time': '16:03:36',\n",
      " 'fire_event': [{'confidence': 86,\n",
      "                 'datetime': '00:00:00',\n",
      "                 'geohash3': 'r1q',\n",
      "                 'geohash5': 'r1qrp',\n",
      "                 'latitude': -36.7215,\n",
      "                 'longitude': 144.1037,\n",
      "                 'matched': False,\n",
      "                 'newdate': '2022-01-05 00:00:00',\n",
      "                 'producer': 'aqua_streaming',\n",
      "                 'surface_temperature_celcius': 60}],\n",
      " 'geohash3': 'r1q',\n",
      " 'latitude': -36.8741,\n",
      " 'longitude': 143.91,\n",
      " 'max_wind_speed': 14.0,\n",
      " 'newdate': '2022-01-05 00:00:00',\n",
      " 'precipitation ': ' 0.12G',\n",
      " 'producer': 'climate_streaming',\n",
      " 'relative_humidity': 41.9,\n",
      " 'windspeed_knots': 9.2}\n",
      "{'GHI_w/m2': 194,\n",
      " '_id': ObjectId('647f58e6092d2423e8aac059'),\n",
      " 'air_temperature_celcius': 24,\n",
      " 'cause_fire_event': 'natural',\n",
      " 'cre_date_time': '16:03:46',\n",
      " 'fire_event': [{'confidence': 86,\n",
      "                 'datetime': '04:48:00',\n",
      "                 'geohash3': 'r1t',\n",
      "                 'geohash5': 'r1t4x',\n",
      "                 'latitude': -36.0966,\n",
      "                 'longitude': 142.3635,\n",
      "                 'matched': False,\n",
      "                 'newdate': '2022-01-06 00:00:00',\n",
      "                 'producer': 'terra_streaming',\n",
      "                 'surface_temperature_celcius': 61}],\n",
      " 'geohash3': 'r1t',\n",
      " 'latitude': -36.3096,\n",
      " 'longitude': 142.7722,\n",
      " 'max_wind_speed': 9.9,\n",
      " 'newdate': '2022-01-06 00:00:00',\n",
      " 'precipitation ': ' 0.00I',\n",
      " 'producer': 'climate_streaming',\n",
      " 'relative_humidity': 56.8,\n",
      " 'windspeed_knots': 5.7}\n",
      "{'GHI_w/m2': 156,\n",
      " '_id': ObjectId('647f58f1092d2423e8aac05a'),\n",
      " 'air_temperature_celcius': 20,\n",
      " 'cause_fire_event': 'other',\n",
      " 'cre_date_time': '16:03:56',\n",
      " 'fire_event': [{'confidence': 81,\n",
      "                 'datetime': '04:48:00',\n",
      "                 'geohash3': 'r1q',\n",
      "                 'geohash5': 'r1q4c',\n",
      "                 'latitude': -37.4485,\n",
      "                 'longitude': 143.5041,\n",
      "                 'matched': False,\n",
      "                 'newdate': '2022-01-07 00:00:00',\n",
      "                 'producer': 'terra_streaming',\n",
      "                 'surface_temperature_celcius': 54}],\n",
      " 'geohash3': 'r1q',\n",
      " 'latitude': -37.1405,\n",
      " 'longitude': 144.1375,\n",
      " 'max_wind_speed': 16.9,\n",
      " 'newdate': '2022-01-07 00:00:00',\n",
      " 'precipitation ': ' 0.08G',\n",
      " 'producer': 'climate_streaming',\n",
      " 'relative_humidity': 60.8,\n",
      " 'windspeed_knots': 10.4}\n",
      "{'GHI_w/m2': 132,\n",
      " '_id': ObjectId('647f58fb092d2423e8aac05b'),\n",
      " 'air_temperature_celcius': 16,\n",
      " 'cause_fire_event': '',\n",
      " 'cre_date_time': '16:04:06',\n",
      " 'fire_event': [],\n",
      " 'geohash3': 'r1q',\n",
      " 'latitude': -36.765,\n",
      " 'longitude': 144.176,\n",
      " 'max_wind_speed': 9.9,\n",
      " 'newdate': '2022-01-08 00:00:00',\n",
      " 'precipitation ': ' 0.00I',\n",
      " 'producer': 'climate_streaming',\n",
      " 'relative_humidity': 54.9,\n",
      " 'windspeed_knots': 5.9}\n",
      "{'GHI_w/m2': 73,\n",
      " '_id': ObjectId('647f5904092d2423e8aac05c'),\n",
      " 'air_temperature_celcius': 8,\n",
      " 'cause_fire_event': 'other',\n",
      " 'cre_date_time': '16:04:16',\n",
      " 'fire_event': [{'confidence': 68,\n",
      "                 'datetime': '04:48:00',\n",
      "                 'geohash3': 'r33',\n",
      "                 'geohash5': 'r336f',\n",
      "                 'latitude': -37.452,\n",
      "                 'longitude': 148.115,\n",
      "                 'matched': False,\n",
      "                 'newdate': '2022-01-09 00:00:00',\n",
      "                 'producer': 'aqua_streaming',\n",
      "                 'surface_temperature_celcius': 77}],\n",
      " 'geohash3': 'r33',\n",
      " 'latitude': -37.475,\n",
      " 'longitude': 148.134,\n",
      " 'max_wind_speed': 7.0,\n",
      " 'newdate': '2022-01-09 00:00:00',\n",
      " 'precipitation ': ' 0.00I',\n",
      " 'producer': 'climate_streaming',\n",
      " 'relative_humidity': 43.1,\n",
      " 'windspeed_knots': 3.4}\n",
      "{'GHI_w/m2': 133,\n",
      " '_id': ObjectId('647f590e092d2423e8aac05d'),\n",
      " 'air_temperature_celcius': 16,\n",
      " 'cause_fire_event': 'other',\n",
      " 'cre_date_time': '16:04:26',\n",
      " 'fire_event': [{'confidence': 69,\n",
      "                 'datetime': '04:48:00',\n",
      "                 'geohash3': 'r1m',\n",
      "                 'geohash5': 'r1mb4',\n",
      "                 'latitude': -37.9318,\n",
      "                 'longitude': 143.2083,\n",
      "                 'matched': False,\n",
      "                 'newdate': '2022-01-10 00:00:00',\n",
      "                 'producer': 'terra_streaming',\n",
      "                 'surface_temperature_celcius': 44}],\n",
      " 'geohash3': 'r1m',\n",
      " 'latitude': -37.95,\n",
      " 'longitude': 142.366,\n",
      " 'max_wind_speed': 15.0,\n",
      " 'newdate': '2022-01-10 00:00:00',\n",
      " 'precipitation ': ' 0.00G',\n",
      " 'producer': 'climate_streaming',\n",
      " 'relative_humidity': 53.6,\n",
      " 'windspeed_knots': 8.1}\n",
      "{'GHI_w/m2': 114,\n",
      " '_id': ObjectId('647f5918092d2423e8aac05e'),\n",
      " 'air_temperature_celcius': 13,\n",
      " 'cause_fire_event': 'other',\n",
      " 'cre_date_time': '16:04:36',\n",
      " 'fire_event': [{'confidence': 50,\n",
      "                 'datetime': '04:48:00',\n",
      "                 'geohash3': 'r1w',\n",
      "                 'geohash5': 'r1wc4',\n",
      "                 'latitude': -36.353,\n",
      "                 'longitude': 144.5977,\n",
      "                 'matched': False,\n",
      "                 'newdate': '2022-01-11 00:00:00',\n",
      "                 'producer': 'aqua_streaming',\n",
      "                 'surface_temperature_celcius': 38}],\n",
      " 'geohash3': 'r1w',\n",
      " 'latitude': -36.3756,\n",
      " 'longitude': 143.7243,\n",
      " 'max_wind_speed': 12.0,\n",
      " 'newdate': '2022-01-11 00:00:00',\n",
      " 'precipitation ': ' 0.01G',\n",
      " 'producer': 'climate_streaming',\n",
      " 'relative_humidity': 47.1,\n",
      " 'windspeed_knots': 8.1}\n"
     ]
    }
   ],
   "source": [
    "from pprint import pprint \n",
    "\n",
    "client = MongoClient('192.168.1.27', 27017) # 27017 number of ports\n",
    "db = client.fit3182_assignment_db\n",
    "\n",
    "result = db.list_collection_names()\n",
    "print(result)\n",
    "\n",
    "cursor = db.climate_hotspot.find({})\n",
    "\n",
    "for doc in cursor:\n",
    "    pprint(doc)"
   ]
  },
  {
   "cell_type": "code",
   "execution_count": null,
   "metadata": {},
   "outputs": [],
   "source": []
  }
 ],
 "metadata": {
  "kernelspec": {
   "display_name": "Python 3 (ipykernel)",
   "language": "python",
   "name": "python3"
  },
  "language_info": {
   "codemirror_mode": {
    "name": "ipython",
    "version": 3
   },
   "file_extension": ".py",
   "mimetype": "text/x-python",
   "name": "python",
   "nbconvert_exporter": "python",
   "pygments_lexer": "ipython3",
   "version": "3.8.16"
  }
 },
 "nbformat": 4,
 "nbformat_minor": 4
}
